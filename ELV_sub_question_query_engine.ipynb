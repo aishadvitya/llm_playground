{
  "cells": [
    {
      "cell_type": "markdown",
      "metadata": {
        "id": "view-in-github",
        "colab_type": "text"
      },
      "source": [
        "<a href=\"https://colab.research.google.com/github/aishadvitya/llm_playground/blob/main/ELV_sub_question_query_engine.ipynb\" target=\"_parent\"><img src=\"https://colab.research.google.com/assets/colab-badge.svg\" alt=\"Open In Colab\"/></a>"
      ]
    },
    {
      "cell_type": "markdown",
      "id": "0e3e4245",
      "metadata": {
        "id": "0e3e4245"
      },
      "source": [
        "<a href=\"https://colab.research.google.com/github/jerryjliu/llama_index/blob/main/docs/docs/examples/query_engine/sub_question_query_engine.ipynb\" target=\"_parent\"><img src=\"https://colab.research.google.com/assets/colab-badge.svg\" alt=\"Open In Colab\"/></a>"
      ]
    },
    {
      "cell_type": "markdown",
      "id": "954e61ed-b3b3-4445-af90-19046f6c1da2",
      "metadata": {
        "id": "954e61ed-b3b3-4445-af90-19046f6c1da2"
      },
      "source": [
        "# Sub Question Query Engine\n",
        "In this tutorial, we showcase how to use a **sub question query engine** to tackle the problem of answering a complex query using multiple data sources.  \n",
        "It first breaks down the complex query into sub questions for each relevant data source,\n",
        "then gather all the intermediate reponses and synthesizes a final response."
      ]
    },
    {
      "cell_type": "markdown",
      "id": "75ac0675-cde6-49ae-bfb3-4c43e6c4a718",
      "metadata": {
        "id": "75ac0675-cde6-49ae-bfb3-4c43e6c4a718"
      },
      "source": [
        "### Preparation"
      ]
    },
    {
      "cell_type": "markdown",
      "id": "a005a37e",
      "metadata": {
        "id": "a005a37e"
      },
      "source": [
        "If you're opening this Notebook on colab, you will probably need to install LlamaIndex 🦙."
      ]
    },
    {
      "cell_type": "code",
      "execution_count": 1,
      "id": "2b740633",
      "metadata": {
        "id": "2b740633",
        "colab": {
          "base_uri": "https://localhost:8080/"
        },
        "outputId": "78082d3b-e53e-417b-c098-d08f2a18edad"
      },
      "outputs": [
        {
          "output_type": "stream",
          "name": "stdout",
          "text": [
            "Requirement already satisfied: llama-index in /usr/local/lib/python3.10/dist-packages (0.10.42)\n",
            "Requirement already satisfied: llama-index-agent-openai<0.3.0,>=0.1.4 in /usr/local/lib/python3.10/dist-packages (from llama-index) (0.2.7)\n",
            "Requirement already satisfied: llama-index-cli<0.2.0,>=0.1.2 in /usr/local/lib/python3.10/dist-packages (from llama-index) (0.1.12)\n",
            "Requirement already satisfied: llama-index-core==0.10.42 in /usr/local/lib/python3.10/dist-packages (from llama-index) (0.10.42)\n",
            "Requirement already satisfied: llama-index-embeddings-openai<0.2.0,>=0.1.5 in /usr/local/lib/python3.10/dist-packages (from llama-index) (0.1.10)\n",
            "Requirement already satisfied: llama-index-indices-managed-llama-cloud<0.2.0,>=0.1.2 in /usr/local/lib/python3.10/dist-packages (from llama-index) (0.1.6)\n",
            "Requirement already satisfied: llama-index-legacy<0.10.0,>=0.9.48 in /usr/local/lib/python3.10/dist-packages (from llama-index) (0.9.48)\n",
            "Requirement already satisfied: llama-index-llms-openai<0.2.0,>=0.1.13 in /usr/local/lib/python3.10/dist-packages (from llama-index) (0.1.21)\n",
            "Requirement already satisfied: llama-index-multi-modal-llms-openai<0.2.0,>=0.1.3 in /usr/local/lib/python3.10/dist-packages (from llama-index) (0.1.6)\n",
            "Requirement already satisfied: llama-index-program-openai<0.2.0,>=0.1.3 in /usr/local/lib/python3.10/dist-packages (from llama-index) (0.1.6)\n",
            "Requirement already satisfied: llama-index-question-gen-openai<0.2.0,>=0.1.2 in /usr/local/lib/python3.10/dist-packages (from llama-index) (0.1.3)\n",
            "Requirement already satisfied: llama-index-readers-file<0.2.0,>=0.1.4 in /usr/local/lib/python3.10/dist-packages (from llama-index) (0.1.23)\n",
            "Requirement already satisfied: llama-index-readers-llama-parse<0.2.0,>=0.1.2 in /usr/local/lib/python3.10/dist-packages (from llama-index) (0.1.4)\n",
            "Requirement already satisfied: PyYAML>=6.0.1 in /usr/local/lib/python3.10/dist-packages (from llama-index-core==0.10.42->llama-index) (6.0.1)\n",
            "Requirement already satisfied: SQLAlchemy[asyncio]>=1.4.49 in /usr/local/lib/python3.10/dist-packages (from llama-index-core==0.10.42->llama-index) (2.0.30)\n",
            "Requirement already satisfied: aiohttp<4.0.0,>=3.8.6 in /usr/local/lib/python3.10/dist-packages (from llama-index-core==0.10.42->llama-index) (3.9.5)\n",
            "Requirement already satisfied: dataclasses-json in /usr/local/lib/python3.10/dist-packages (from llama-index-core==0.10.42->llama-index) (0.6.6)\n",
            "Requirement already satisfied: deprecated>=1.2.9.3 in /usr/local/lib/python3.10/dist-packages (from llama-index-core==0.10.42->llama-index) (1.2.14)\n",
            "Requirement already satisfied: dirtyjson<2.0.0,>=1.0.8 in /usr/local/lib/python3.10/dist-packages (from llama-index-core==0.10.42->llama-index) (1.0.8)\n",
            "Requirement already satisfied: fsspec>=2023.5.0 in /usr/local/lib/python3.10/dist-packages (from llama-index-core==0.10.42->llama-index) (2023.6.0)\n",
            "Requirement already satisfied: httpx in /usr/local/lib/python3.10/dist-packages (from llama-index-core==0.10.42->llama-index) (0.27.0)\n",
            "Requirement already satisfied: llamaindex-py-client<0.2.0,>=0.1.18 in /usr/local/lib/python3.10/dist-packages (from llama-index-core==0.10.42->llama-index) (0.1.19)\n",
            "Requirement already satisfied: nest-asyncio<2.0.0,>=1.5.8 in /usr/local/lib/python3.10/dist-packages (from llama-index-core==0.10.42->llama-index) (1.6.0)\n",
            "Requirement already satisfied: networkx>=3.0 in /usr/local/lib/python3.10/dist-packages (from llama-index-core==0.10.42->llama-index) (3.3)\n",
            "Requirement already satisfied: nltk<4.0.0,>=3.8.1 in /usr/local/lib/python3.10/dist-packages (from llama-index-core==0.10.42->llama-index) (3.8.1)\n",
            "Requirement already satisfied: numpy in /usr/local/lib/python3.10/dist-packages (from llama-index-core==0.10.42->llama-index) (1.25.2)\n",
            "Requirement already satisfied: openai>=1.1.0 in /usr/local/lib/python3.10/dist-packages (from llama-index-core==0.10.42->llama-index) (1.30.5)\n",
            "Requirement already satisfied: pandas in /usr/local/lib/python3.10/dist-packages (from llama-index-core==0.10.42->llama-index) (2.0.3)\n",
            "Requirement already satisfied: pillow>=9.0.0 in /usr/local/lib/python3.10/dist-packages (from llama-index-core==0.10.42->llama-index) (9.4.0)\n",
            "Requirement already satisfied: requests>=2.31.0 in /usr/local/lib/python3.10/dist-packages (from llama-index-core==0.10.42->llama-index) (2.31.0)\n",
            "Requirement already satisfied: tenacity<9.0.0,>=8.2.0 in /usr/local/lib/python3.10/dist-packages (from llama-index-core==0.10.42->llama-index) (8.3.0)\n",
            "Requirement already satisfied: tiktoken>=0.3.3 in /usr/local/lib/python3.10/dist-packages (from llama-index-core==0.10.42->llama-index) (0.7.0)\n",
            "Requirement already satisfied: tqdm<5.0.0,>=4.66.1 in /usr/local/lib/python3.10/dist-packages (from llama-index-core==0.10.42->llama-index) (4.66.4)\n",
            "Requirement already satisfied: typing-extensions>=4.5.0 in /usr/local/lib/python3.10/dist-packages (from llama-index-core==0.10.42->llama-index) (4.11.0)\n",
            "Requirement already satisfied: typing-inspect>=0.8.0 in /usr/local/lib/python3.10/dist-packages (from llama-index-core==0.10.42->llama-index) (0.9.0)\n",
            "Requirement already satisfied: wrapt in /usr/local/lib/python3.10/dist-packages (from llama-index-core==0.10.42->llama-index) (1.14.1)\n",
            "Requirement already satisfied: beautifulsoup4<5.0.0,>=4.12.3 in /usr/local/lib/python3.10/dist-packages (from llama-index-readers-file<0.2.0,>=0.1.4->llama-index) (4.12.3)\n",
            "Requirement already satisfied: pypdf<5.0.0,>=4.0.1 in /usr/local/lib/python3.10/dist-packages (from llama-index-readers-file<0.2.0,>=0.1.4->llama-index) (4.2.0)\n",
            "Requirement already satisfied: striprtf<0.0.27,>=0.0.26 in /usr/local/lib/python3.10/dist-packages (from llama-index-readers-file<0.2.0,>=0.1.4->llama-index) (0.0.26)\n",
            "Requirement already satisfied: llama-parse<0.5.0,>=0.4.0 in /usr/local/lib/python3.10/dist-packages (from llama-index-readers-llama-parse<0.2.0,>=0.1.2->llama-index) (0.4.4)\n",
            "Requirement already satisfied: aiosignal>=1.1.2 in /usr/local/lib/python3.10/dist-packages (from aiohttp<4.0.0,>=3.8.6->llama-index-core==0.10.42->llama-index) (1.3.1)\n",
            "Requirement already satisfied: attrs>=17.3.0 in /usr/local/lib/python3.10/dist-packages (from aiohttp<4.0.0,>=3.8.6->llama-index-core==0.10.42->llama-index) (23.2.0)\n",
            "Requirement already satisfied: frozenlist>=1.1.1 in /usr/local/lib/python3.10/dist-packages (from aiohttp<4.0.0,>=3.8.6->llama-index-core==0.10.42->llama-index) (1.4.1)\n",
            "Requirement already satisfied: multidict<7.0,>=4.5 in /usr/local/lib/python3.10/dist-packages (from aiohttp<4.0.0,>=3.8.6->llama-index-core==0.10.42->llama-index) (6.0.5)\n",
            "Requirement already satisfied: yarl<2.0,>=1.0 in /usr/local/lib/python3.10/dist-packages (from aiohttp<4.0.0,>=3.8.6->llama-index-core==0.10.42->llama-index) (1.9.4)\n",
            "Requirement already satisfied: async-timeout<5.0,>=4.0 in /usr/local/lib/python3.10/dist-packages (from aiohttp<4.0.0,>=3.8.6->llama-index-core==0.10.42->llama-index) (4.0.3)\n",
            "Requirement already satisfied: soupsieve>1.2 in /usr/local/lib/python3.10/dist-packages (from beautifulsoup4<5.0.0,>=4.12.3->llama-index-readers-file<0.2.0,>=0.1.4->llama-index) (2.5)\n",
            "Requirement already satisfied: pydantic>=1.10 in /usr/local/lib/python3.10/dist-packages (from llamaindex-py-client<0.2.0,>=0.1.18->llama-index-core==0.10.42->llama-index) (2.7.1)\n",
            "Requirement already satisfied: anyio in /usr/local/lib/python3.10/dist-packages (from httpx->llama-index-core==0.10.42->llama-index) (3.7.1)\n",
            "Requirement already satisfied: certifi in /usr/local/lib/python3.10/dist-packages (from httpx->llama-index-core==0.10.42->llama-index) (2024.2.2)\n",
            "Requirement already satisfied: httpcore==1.* in /usr/local/lib/python3.10/dist-packages (from httpx->llama-index-core==0.10.42->llama-index) (1.0.5)\n",
            "Requirement already satisfied: idna in /usr/local/lib/python3.10/dist-packages (from httpx->llama-index-core==0.10.42->llama-index) (3.7)\n",
            "Requirement already satisfied: sniffio in /usr/local/lib/python3.10/dist-packages (from httpx->llama-index-core==0.10.42->llama-index) (1.3.1)\n",
            "Requirement already satisfied: h11<0.15,>=0.13 in /usr/local/lib/python3.10/dist-packages (from httpcore==1.*->httpx->llama-index-core==0.10.42->llama-index) (0.14.0)\n",
            "Requirement already satisfied: click in /usr/local/lib/python3.10/dist-packages (from nltk<4.0.0,>=3.8.1->llama-index-core==0.10.42->llama-index) (8.1.7)\n",
            "Requirement already satisfied: joblib in /usr/local/lib/python3.10/dist-packages (from nltk<4.0.0,>=3.8.1->llama-index-core==0.10.42->llama-index) (1.4.2)\n",
            "Requirement already satisfied: regex>=2021.8.3 in /usr/local/lib/python3.10/dist-packages (from nltk<4.0.0,>=3.8.1->llama-index-core==0.10.42->llama-index) (2024.5.15)\n",
            "Requirement already satisfied: distro<2,>=1.7.0 in /usr/lib/python3/dist-packages (from openai>=1.1.0->llama-index-core==0.10.42->llama-index) (1.7.0)\n",
            "Requirement already satisfied: charset-normalizer<4,>=2 in /usr/local/lib/python3.10/dist-packages (from requests>=2.31.0->llama-index-core==0.10.42->llama-index) (3.3.2)\n",
            "Requirement already satisfied: urllib3<3,>=1.21.1 in /usr/local/lib/python3.10/dist-packages (from requests>=2.31.0->llama-index-core==0.10.42->llama-index) (2.0.7)\n",
            "Requirement already satisfied: greenlet!=0.4.17 in /usr/local/lib/python3.10/dist-packages (from SQLAlchemy[asyncio]>=1.4.49->llama-index-core==0.10.42->llama-index) (3.0.3)\n",
            "Requirement already satisfied: mypy-extensions>=0.3.0 in /usr/local/lib/python3.10/dist-packages (from typing-inspect>=0.8.0->llama-index-core==0.10.42->llama-index) (1.0.0)\n",
            "Requirement already satisfied: marshmallow<4.0.0,>=3.18.0 in /usr/local/lib/python3.10/dist-packages (from dataclasses-json->llama-index-core==0.10.42->llama-index) (3.21.2)\n",
            "Requirement already satisfied: python-dateutil>=2.8.2 in /usr/local/lib/python3.10/dist-packages (from pandas->llama-index-core==0.10.42->llama-index) (2.8.2)\n",
            "Requirement already satisfied: pytz>=2020.1 in /usr/local/lib/python3.10/dist-packages (from pandas->llama-index-core==0.10.42->llama-index) (2023.4)\n",
            "Requirement already satisfied: tzdata>=2022.1 in /usr/local/lib/python3.10/dist-packages (from pandas->llama-index-core==0.10.42->llama-index) (2024.1)\n",
            "Requirement already satisfied: exceptiongroup in /usr/local/lib/python3.10/dist-packages (from anyio->httpx->llama-index-core==0.10.42->llama-index) (1.2.1)\n",
            "Requirement already satisfied: packaging>=17.0 in /usr/local/lib/python3.10/dist-packages (from marshmallow<4.0.0,>=3.18.0->dataclasses-json->llama-index-core==0.10.42->llama-index) (24.0)\n",
            "Requirement already satisfied: annotated-types>=0.4.0 in /usr/local/lib/python3.10/dist-packages (from pydantic>=1.10->llamaindex-py-client<0.2.0,>=0.1.18->llama-index-core==0.10.42->llama-index) (0.7.0)\n",
            "Requirement already satisfied: pydantic-core==2.18.2 in /usr/local/lib/python3.10/dist-packages (from pydantic>=1.10->llamaindex-py-client<0.2.0,>=0.1.18->llama-index-core==0.10.42->llama-index) (2.18.2)\n",
            "Requirement already satisfied: six>=1.5 in /usr/local/lib/python3.10/dist-packages (from python-dateutil>=2.8.2->pandas->llama-index-core==0.10.42->llama-index) (1.16.0)\n"
          ]
        }
      ],
      "source": [
        "!pip install llama-index"
      ]
    },
    {
      "cell_type": "code",
      "execution_count": 2,
      "id": "4d97d35f",
      "metadata": {
        "id": "4d97d35f"
      },
      "outputs": [],
      "source": [
        "import os\n",
        "\n",
        "os.environ[\"OPENAI_API_KEY\"] = \"sk-..\"\n",
        "\n",
        "import nest_asyncio\n",
        "\n",
        "nest_asyncio.apply()"
      ]
    },
    {
      "cell_type": "code",
      "execution_count": 3,
      "id": "c3675b87-4d08-4f59-a971-48bf67c66ad0",
      "metadata": {
        "id": "c3675b87-4d08-4f59-a971-48bf67c66ad0"
      },
      "outputs": [],
      "source": [
        "from llama_index.core import VectorStoreIndex, SimpleDirectoryReader\n",
        "from llama_index.core.tools import QueryEngineTool, ToolMetadata\n",
        "from llama_index.core.query_engine import SubQuestionQueryEngine\n",
        "from llama_index.core.callbacks import CallbackManager, LlamaDebugHandler\n",
        "from llama_index.core import Settings"
      ]
    },
    {
      "cell_type": "code",
      "execution_count": 4,
      "id": "2b95fb5b",
      "metadata": {
        "id": "2b95fb5b"
      },
      "outputs": [],
      "source": [
        "# Using the LlamaDebugHandler to print the trace of the sub questions\n",
        "# captured by the SUB_QUESTION callback event type\n",
        "llama_debug = LlamaDebugHandler(print_trace_on_end=True)\n",
        "callback_manager = CallbackManager([llama_debug])\n",
        "\n",
        "Settings.callback_manager = callback_manager"
      ]
    },
    {
      "cell_type": "markdown",
      "id": "f07aabc9",
      "metadata": {
        "id": "f07aabc9"
      },
      "source": [
        "### Download Data"
      ]
    },
    {
      "cell_type": "code",
      "execution_count": 6,
      "id": "22b8b519-dd95-4dfb-9cdc-cb0004852036",
      "metadata": {
        "id": "22b8b519-dd95-4dfb-9cdc-cb0004852036",
        "outputId": "01d52b89-a619-4d23-980f-b4a6b1425b8a",
        "colab": {
          "base_uri": "https://localhost:8080/"
        }
      },
      "outputs": [
        {
          "output_type": "stream",
          "name": "stdout",
          "text": [
            "**********\n",
            "Trace: index_construction\n",
            "    |_node_parsing -> 0.036634 seconds\n",
            "      |_chunking -> 0.00155 seconds\n",
            "      |_chunking -> 0.001575 seconds\n",
            "      |_chunking -> 0.001391 seconds\n",
            "      |_chunking -> 0.001357 seconds\n",
            "      |_chunking -> 0.001427 seconds\n",
            "      |_chunking -> 0.001205 seconds\n",
            "      |_chunking -> 0.00118 seconds\n",
            "      |_chunking -> 0.001104 seconds\n",
            "      |_chunking -> 0.001137 seconds\n",
            "      |_chunking -> 0.00103 seconds\n",
            "      |_chunking -> 0.001274 seconds\n",
            "      |_chunking -> 0.001192 seconds\n",
            "      |_chunking -> 0.001297 seconds\n",
            "      |_chunking -> 0.001098 seconds\n",
            "      |_chunking -> 0.001053 seconds\n",
            "      |_chunking -> 0.001239 seconds\n",
            "      |_chunking -> 0.000895 seconds\n",
            "      |_chunking -> 0.001074 seconds\n",
            "      |_chunking -> 0.001196 seconds\n",
            "      |_chunking -> 0.00102 seconds\n",
            "      |_chunking -> 0.00023 seconds\n",
            "    |_embedding -> 1.099091 seconds\n",
            "**********\n"
          ]
        }
      ],
      "source": [
        "# load data\n",
        "pg_essay = SimpleDirectoryReader(input_files=[\"/content/call_transcript_elv.pdf\"]).load_data()\n",
        "\n",
        "# build index and query engine\n",
        "vector_query_engine = VectorStoreIndex.from_documents(\n",
        "    pg_essay,\n",
        "    use_async=True,\n",
        ").as_query_engine()"
      ]
    },
    {
      "cell_type": "markdown",
      "id": "484cb516-6692-4d07-9bd8-93941909b459",
      "metadata": {
        "id": "484cb516-6692-4d07-9bd8-93941909b459"
      },
      "source": [
        "### Setup sub question query engine"
      ]
    },
    {
      "cell_type": "code",
      "execution_count": 12,
      "id": "dbff0cbd-9a1a-4acc-9870-03d05640125c",
      "metadata": {
        "id": "dbff0cbd-9a1a-4acc-9870-03d05640125c"
      },
      "outputs": [],
      "source": [
        "# setup base query engine as tool\n",
        "query_engine_tools = [\n",
        "    QueryEngineTool(\n",
        "        query_engine=vector_query_engine,\n",
        "        metadata=ToolMetadata(\n",
        "            name=\"Elevance finance call\",\n",
        "            description=\"Elevance earnings finance call transcript\",\n",
        "        ),\n",
        "    ),\n",
        "]\n",
        "\n",
        "query_engine = SubQuestionQueryEngine.from_defaults(\n",
        "    query_engine_tools=query_engine_tools,\n",
        "    use_async=True,\n",
        ")"
      ]
    },
    {
      "cell_type": "markdown",
      "id": "eeea8e15-78ab-4f72-a380-1a76bb5d5737",
      "metadata": {
        "id": "eeea8e15-78ab-4f72-a380-1a76bb5d5737"
      },
      "source": [
        "### Run queries"
      ]
    },
    {
      "cell_type": "code",
      "execution_count": 14,
      "id": "a576ce5e-a6d1-470d-be51-84fbb31b4aa2",
      "metadata": {
        "id": "a576ce5e-a6d1-470d-be51-84fbb31b4aa2",
        "outputId": "398fc8da-51f7-40b4-e01e-769cf42a57be",
        "colab": {
          "base_uri": "https://localhost:8080/"
        }
      },
      "outputs": [
        {
          "output_type": "stream",
          "name": "stdout",
          "text": [
            "Generated 2 sub questions.\n",
            "\u001b[1;3;38;2;237;90;200m[Elevance finance call] Q: What was Gael's overview of first quarter performance?\n",
            "\u001b[0m\u001b[1;3;38;2;90;149;237m[Elevance finance call] Q: What was Mark's overview of first quarter performance?\n",
            "\u001b[0m\u001b[1;3;38;2;90;149;237m[Elevance finance call] A: Mark provided an overview of the first quarter performance, highlighting solid results under a dynamic operating environment. The quarter saw growth in commercial fee-based and individual ACA members, offsetting Medicaid attrition. Operating revenue was in line with expectations, with improved benefit expense and disciplined expense management. Operating cash flow was $2 billion, and the debt to capital ratio was maintained within the target range. The strategic partnership with Clayton, Dubilier & Rice was emphasized as a step towards advancing a local-oriented approach to care delivery.\n",
            "\u001b[0m\u001b[1;3;38;2;237;90;200m[Elevance finance call] A: Gail provided an overview of the first quarter performance, mentioning that the company ended March with 46.2 million members, reflecting Medicaid attrition but partially offset by momentum in the commercial business. They added nearly 400,000 commercial fee-based members and over 200,000 individual ACA members during the quarter. Operating revenue was $42.3 billion, benefit expense ratio improved by 20 basis points year-over-year, and the adjusted operating expense ratio was consistent with the previous year. Operating cash flow for the quarter was $2 billion, and the company maintained a debt to capital ratio of 39.4%. They also repurchased 1.1 million shares of common stock for approximately $566 million during the quarter.\n",
            "\u001b[0m**********\n",
            "Trace: query\n",
            "    |_query -> 8.526921 seconds\n",
            "      |_llm -> 1.313445 seconds\n",
            "      |_sub_question -> 2.787967 seconds\n",
            "        |_query -> 2.786214 seconds\n",
            "          |_retrieve -> 0.203093 seconds\n",
            "            |_embedding -> 0.196858 seconds\n",
            "          |_synthesize -> 2.58216 seconds\n",
            "            |_templating -> 3e-05 seconds\n",
            "            |_llm -> 2.570435 seconds\n",
            "      |_sub_question -> 2.112258 seconds\n",
            "        |_query -> 2.110339 seconds\n",
            "          |_retrieve -> 0.228631 seconds\n",
            "            |_embedding -> 0.220451 seconds\n",
            "          |_synthesize -> 1.880125 seconds\n",
            "            |_templating -> 2.2e-05 seconds\n",
            "            |_llm -> 1.871267 seconds\n",
            "      |_synthesize -> 4.42277 seconds\n",
            "        |_templating -> 3.7e-05 seconds\n",
            "        |_llm -> 4.416378 seconds\n",
            "**********\n"
          ]
        }
      ],
      "source": [
        "response = query_engine.query(\n",
        "    \"What was gael and mark's overview of first quarter performance  \"\n",
        ")"
      ]
    },
    {
      "cell_type": "code",
      "execution_count": 9,
      "id": "222d16a7-089a-4de0-b551-fcd785f3eb26",
      "metadata": {
        "id": "222d16a7-089a-4de0-b551-fcd785f3eb26",
        "outputId": "15c78750-7a35-4c0f-fc64-aa7f07b9899d",
        "colab": {
          "base_uri": "https://localhost:8080/"
        }
      },
    
      "source": [
        "print(response)"
      ]
    },
    {
      "cell_type": "code",
      "execution_count": 10,
      "id": "fc38e65a",
      "metadata": {
        "id": "fc38e65a",
        "outputId": "55e25109-e76d-4288-fe98-c9f78c5318ce",
        "colab": {
          "base_uri": "https://localhost:8080/"
        }
      },
     
      "source": [
        "# iterate through sub_question items captured in SUB_QUESTION event\n",
        "from llama_index.core.callbacks import CBEventType, EventPayload\n",
        "\n",
        "for i, (start_event, end_event) in enumerate(\n",
        "    llama_debug.get_event_pairs(CBEventType.SUB_QUESTION)\n",
        "):\n",
        "    qa_pair = end_event.payload[EventPayload.SUB_QUESTION]\n",
        "    print(\"Sub Question \" + str(i) + \": \" + qa_pair.sub_q.sub_question.strip())\n",
        "    print(\"Answer: \" + qa_pair.answer.strip())\n",
        "    print(\"====================================\")"
      ]
    }
  ],
  "metadata": {
    "kernelspec": {
      "display_name": "Python 3 (ipykernel)",
      "language": "python",
      "name": "python3"
    },
    "language_info": {
      "codemirror_mode": {
        "name": "ipython",
        "version": 3
      },
      "file_extension": ".py",
      "mimetype": "text/x-python",
      "name": "python",
      "nbconvert_exporter": "python",
      "pygments_lexer": "ipython3"
    },
    "colab": {
      "provenance": [],
      "include_colab_link": true
    }
  },
  "nbformat": 4,
  "nbformat_minor": 5
}
